{
 "cells": [
  {
   "cell_type": "markdown",
   "id": "00c47d4f-c032-4d6d-b320-1a9ff798b5eb",
   "metadata": {},
   "source": [
    "### Apresentação dos Cenários"
   ]
  },
  {
   "cell_type": "markdown",
   "id": "19f007cb-d367-4aab-b8b5-60152fbfa6f3",
   "metadata": {},
   "source": [
    "- Apresenta cenários\n",
    "    - Aponta carecteríticas de cada um\n",
    "        - Tempo real x buffer de tempo\n",
    "        - Processo pós classificação (Volta atrás de decisões anteriores) x Classificação já é decisão\n",
    "    - Impacto da decisão:\n",
    "        - Como estruturar os dados\n",
    "    - Cenário 1 pareceu ser o que mais fazia sentido para o negócio. Se tivesse ciência da possibilidade, seguiria pelo caminho 2."
   ]
  },
  {
   "cell_type": "markdown",
   "id": "9b8bc0ad-0f70-402a-af44-63bd2438a96a",
   "metadata": {},
   "source": [
    "### Decisão de features"
   ]
  },
  {
   "cell_type": "markdown",
   "id": "ad972f49-fceb-427d-b5e4-3528fc601229",
   "metadata": {},
   "source": [
    "- Features:\n",
    "    - Do histórico do cartão\n",
    "        - n_cbk_anteriores\n",
    "        - historico_cbk\n",
    "    - Da sequência de transações atuais\n",
    "        - n_transacoes_tempo (1h)\n",
    "        - hora_h\n",
    "        - dia_sem\n",
    "    - Do cliente\n",
    "        - dif_mediana_cliente_cb\n",
    "        - dif_mediana_cliente_ncb\n",
    "        - dif_lim_valor"
   ]
  },
  {
   "cell_type": "markdown",
   "id": "422c8e4b-afa2-4d4d-80e5-795be36b1fed",
   "metadata": {},
   "source": [
    "### Qual o perfil transacional do cliente?\n",
    "\n",
    "#### Características\n",
    "* O cliente tem transações acontecendo 24h por dia, 7 dias por semana.\n",
    "* As transações tem ticket médio de 130 reais, sendo metade das transações com valor de até 99 reais e 90% das transações tem valor de até 336 reais.\n",
    "* 98.82% ((7963+1004+184)/9260) dos cartões usados para fazer transações, foram utilizados até 3 vezes no mes.\n",
    "\n",
    "#### Conclusão\n",
    "O cliente faz muitas transações com poucos cartões e poucas transações com muitos cartões diferentes, indicativo de alta rotatividade de cartões que fazem compra com ele. Devido o ticket médio de 130 reais, mediana de 99 reais e 90% das transações terem valor de até 336 reais, pode-se entender que o valor das transações não costumam ser altos.\n",
    "\n",
    "* Sabendo que pode-se lucrar com transações altas ou com muitas transações de valor baixo e assumindo que o ticket médio de 130 reais é relativamente baixo, suponho que lucro dele deve vir principalmente da quantidade de transações que é feita.\n",
    "\n"
   ]
  },
  {
   "cell_type": "markdown",
   "id": "80cc0ef4-5b78-4958-a762-0fecd740b684",
   "metadata": {},
   "source": [
    "### Qual o perfil das transações que retornaram chargeback?\n",
    "\n",
    "#### Conclusão\n",
    "\n",
    "Transações que retornam chargeback acontecem mais frequentemente em cartões que já tiveram alguma transação passada com CBK, em transações com o mesmo cartão que acontece repetidas vezes em um período curto de tempo (1h no exemplo) e geralmente tendem a ter valor mais alto que transações que não tem CBK."
   ]
  },
  {
   "cell_type": "markdown",
   "id": "fb7ed43f-a518-4b9d-8726-3e0b6872370a",
   "metadata": {},
   "source": [
    "### Previsão Chargeback\n",
    "\n",
    "- Features removidas\n",
    "- Divisão temporal de treino e teste\n",
    "- Pipeline\n",
    "    - StardardScaler (algumas features podem dominar as outras; se fosse rede neural, agiliza a convergencia do algoritmo)\n",
    "    - modelo\n",
    "    - oversampling (queria usar métodos como o SMOTE)\n",
    "    - gridSearch procurando o maior f1\n",
    "        - O f1 poderia ser trocado por precisão ou recall a depender se a gente acha que é menos prejudicial para o modelo classificar um CBK em um caso que não é CBK ou se o contrário. Eu julguei ser igualmente importante e por isso fui com o f1.\n",
    "        \n",
    "- Feature importance\n",
    "    - Features do histórico do cartão são mais importantes para o modelo\n",
    "    - Feature da sequencia da transação também são importantes\n",
    "    - Features que ficaram mal pensadas na prática\n",
    "        - dif_mediana_cliente_cb\n",
    "        - dif_mediana_cliente_ncb\n",
    "        - dif_valor_lim\n",
    "        - historico_cbk podia ser removido porque a informação já está em n_cbk_anteriores \n",
    "\n",
    "- Análise de erros\n",
    "    - O modelo sofre cartões que estão fazendo a sua primeira transação (i.e., não tem histórico)\n",
    "    - Mas ele parece ir muito bem para os demais casos\n",
    "\n",
    "- Cenário de classificação em dados de Junho\n",
    "    - Devido o cenário que estamos assumindo no início, o desempenho do modelo fica prejudicado\n",
    "        - Ele perdeu acesso às duas features mais importantes, que são as de histórico do cartão.\n",
    "    - O numero de 24 está maquiado para baixo\n",
    "        - Ele classifica CBK pela sequencia, após algumas transferências. Então as transações anteriores do conjunto de transações também deviam ser reclassificadas para CBK\n"
   ]
  },
  {
   "cell_type": "markdown",
   "id": "332e261a-1854-4a53-b9c4-dd3ecab27a04",
   "metadata": {},
   "source": [
    "### Proposta de regras de negócio\n",
    "\n",
    "- Estabelecer limites de numero de transações em um período de tempo\n",
    "- Limitar transações baseado na quantidade de vezes que o cartão já fez chargeback"
   ]
  }
 ],
 "metadata": {
  "kernelspec": {
   "display_name": "Python 3 (ipykernel)",
   "language": "python",
   "name": "python3"
  },
  "language_info": {
   "codemirror_mode": {
    "name": "ipython",
    "version": 3
   },
   "file_extension": ".py",
   "mimetype": "text/x-python",
   "name": "python",
   "nbconvert_exporter": "python",
   "pygments_lexer": "ipython3",
   "version": "3.9.7"
  }
 },
 "nbformat": 4,
 "nbformat_minor": 5
}
