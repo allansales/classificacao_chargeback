{
 "cells": [
  {
   "cell_type": "markdown",
   "id": "371797b7-dda6-4d61-84d8-0d47f31fb13a",
   "metadata": {},
   "source": [
    "![cenarios](modelos_abordagem.jpg)"
   ]
  },
  {
   "cell_type": "markdown",
   "id": "bd4a1c66-4c50-43e3-847d-efd4bc012967",
   "metadata": {},
   "source": [
    "### README\n",
    "\n",
    "Para cada ponto proposto no desafio, eu separei uma seção neste notebook. No fim de cada seção há uma subseção 'conclusão' com respostas/comentários.\n",
    "\n",
    "Iniciamos o notebook construindo o dataset a partir dos dados disponibilizados e depois respondemos as perguntas do desafio."
   ]
  },
  {
   "cell_type": "code",
   "execution_count": 1,
   "id": "13975165-41fb-4448-ab96-2fcf8549f67b",
   "metadata": {},
   "outputs": [],
   "source": [
    "import pandas as pd\n",
    "import numpy as np"
   ]
  },
  {
   "cell_type": "code",
   "execution_count": 2,
   "id": "95fa89e6-15d4-4657-9fc2-c33b4d30a832",
   "metadata": {},
   "outputs": [],
   "source": [
    "submissao = pd.read_excel('data.xlsx', sheet_name=1)\n",
    "submissao['data_hora'] = pd.to_datetime(submissao['Dia'].astype(str) + ' ' + submissao['Hora'].astype(str), format='%Y-%m-%d %H:%M:%S')\n",
    "submissao = submissao.drop('CBK', axis=1)\n",
    "submissao = submissao.sort_values(['data_hora'])"
   ]
  },
  {
   "cell_type": "code",
   "execution_count": 3,
   "id": "3307b047-f5e0-404e-a8a7-22a81ee32307",
   "metadata": {},
   "outputs": [],
   "source": [
    "base = pd.read_excel('data.xlsx')\n",
    "base['data_hora'] = pd.to_datetime(base['Dia'].astype(str) + ' ' + base['Hora'].astype(str), format='%Y-%m-%d %H:%M:%S')\n",
    "base = base.sort_values(['data_hora'])\n",
    "base['CBK'] = np.where(base.CBK == 'Não', 0, 1)"
   ]
  },
  {
   "cell_type": "markdown",
   "id": "8f5593ca-febb-41ab-884a-1573d4e58953",
   "metadata": {},
   "source": [
    "### Constrói Dataset"
   ]
  },
  {
   "cell_type": "markdown",
   "id": "15e7f0da-d275-4ddb-8914-aa82d565123a",
   "metadata": {},
   "source": [
    "#### Add n_cbk_anteriores\n",
    "\n",
    "Numero de transações sem chargeback desde o último cbk"
   ]
  },
  {
   "cell_type": "code",
   "execution_count": 4,
   "id": "0aeb7b87-ea17-4efa-850e-d32be6047349",
   "metadata": {},
   "outputs": [],
   "source": [
    "def add_n_cbk_anteriores(df, aux, modo):\n",
    "    def get_n_cbk_anteriores(series):\n",
    "        series = list(series)\n",
    "        ocorrencias = [0] * len(series)\n",
    "        contador = 0\n",
    "\n",
    "        for i in range(len(series)):\n",
    "            if i==0:\n",
    "                ocorrencias[i] = -1\n",
    "            else:\n",
    "                ocorrencias[i] = contador\n",
    "            if series[i] == 1:\n",
    "                contador += 1\n",
    "        return(ocorrencias)    \n",
    "\n",
    "    def transform(df):\n",
    "        n_cbk_anteriores = []\n",
    "        for cartao in df.Cartão:  \n",
    "            if cartao in aux.Cartão.array:\n",
    "                ocorrencias = aux[(aux.Cartão == cartao) & (aux.CBK == 1)]\n",
    "                n_cbk_anteriores.append(len(ocorrencias))\n",
    "                continue\n",
    "            n_cbk_anteriores.append(-1)\n",
    "        return(n_cbk_anteriores)\n",
    "    \n",
    "    df = df.sort_values(['Cartão','data_hora'])\n",
    "    if modo == 'fit':\n",
    "        n_cbk_anteriores = df.groupby('Cartão').CBK.apply(get_n_cbk_anteriores)\n",
    "        df['n_cbk_anteriores'] = [st for row in n_cbk_anteriores for st in row]\n",
    "    else:\n",
    "        df['n_cbk_anteriores'] = transform(df)\n",
    "        \n",
    "    return(df)\n",
    "    "
   ]
  },
  {
   "cell_type": "markdown",
   "id": "a45580e3-a490-4fad-9d73-f297b119767c",
   "metadata": {
    "tags": []
   },
   "source": [
    "#### Add n_pedidos_tempo\n",
    "\n",
    "Indica quantas transações foram feitos no ultimo periodo de tempo"
   ]
  },
  {
   "cell_type": "code",
   "execution_count": 5,
   "id": "1edaca4e-4bc7-4249-abb3-ded0f78681d8",
   "metadata": {},
   "outputs": [],
   "source": [
    "def add_n_transacoes_tempo(df, aux, modo, segundos_dif=3600):\n",
    "\n",
    "    def get_n_transacoes_tempo(data_hora, segundos_dif): #1h = 3600segundos\n",
    "        n_transacoes = []\n",
    "        for idx, data_hora_atual in enumerate(data_hora):\n",
    "            n_transacoes_tempo = 0\n",
    "            for data_hora_anterior in data_hora[:idx]:\n",
    "                if (data_hora_atual - data_hora_anterior).seconds < segundos_dif: \n",
    "                    n_transacoes_tempo+=1\n",
    "            n_transacoes.append(n_transacoes_tempo)\n",
    "        return(n_transacoes)\n",
    "    \n",
    "    def transform(df, aux):\n",
    "        aux = pd.concat([df[['Cartão', 'data_hora']], aux[['Cartão', 'data_hora']]])\n",
    "        n_transacoes = []\n",
    "        for cartao, data_hora_atual in zip(df.Cartão, df.data_hora):  \n",
    "            if cartao in aux.Cartão.array:\n",
    "                ocorrencias = aux[(aux.Cartão == cartao)]\n",
    "                print(ocorrencias)\n",
    "                n_transacoes_tempo = -1 # comeca em -1 porque uma transacao sempre encontra ela mesma\n",
    "                for data_hora_anterior in ocorrencias.data_hora:\n",
    "                    if (data_hora_atual - data_hora_anterior).seconds < segundos_dif: \n",
    "                        n_transacoes_tempo+=1\n",
    "                n_transacoes.append(n_transacoes_tempo)\n",
    "                continue\n",
    "            n_transacoes.append(0)\n",
    "        return(n_transacoes)\n",
    "        \n",
    "    \n",
    "    if modo == 'fit':\n",
    "        n_transacoes_tempo = df.groupby('Cartão').data_hora.apply(lambda x: get_n_transacoes_tempo(x, segundos_dif))\n",
    "        df = df.sort_values(['Cartão','data_hora'])\n",
    "        df['n_transacoes_tempo'] = [st for row in n_transacoes_tempo for st in row]\n",
    "    else:\n",
    "        df['n_transacoes_tempo'] = transform(df, aux)\n",
    "    return(df)"
   ]
  },
  {
   "cell_type": "code",
   "execution_count": 6,
   "id": "a6a8eeb1-6d80-44af-93c8-799fe453c4fb",
   "metadata": {},
   "outputs": [],
   "source": [
    "# devia ter sido feito com o scikit\n",
    "\n",
    "def preprocess_data(df, aux, modo='fit'): #modo = fit ou transform para \n",
    "    df['hora_h'] = df.Hora.astype(str).str.slice(start=0, stop=2).astype(int)\n",
    "    df['dia_sem'] = df.Dia.dt.dayofweek\n",
    "    df['semana_mes'] = df.Dia.dt.isocalendar().week\n",
    "    \n",
    "    df = df.sort_values(['Cartão','data_hora'])\n",
    "    \n",
    "    df = add_n_cbk_anteriores(df, aux, modo)\n",
    "    df['historico_cbk'] = np.where(df.n_cbk_anteriores >= 1, 1, df.n_cbk_anteriores)\n",
    "    df = add_n_transacoes_tempo(df, aux, modo)\n",
    "    \n",
    "    \n",
    "    # colocar numa funcao para padronizar\n",
    "    if modo=='fit':\n",
    "        data = df\n",
    "    else:\n",
    "        data = aux\n",
    "    \n",
    "    mediana_ncb = np.median(data[data.CBK == 0].Valor)\n",
    "    mediana_cb = np.median(data[data.CBK == 1].Valor)\n",
    "\n",
    "    df['dif_mediana_cliente_cb'] = df.Valor - mediana_cb\n",
    "    df['dif_mediana_cliente_ncb'] = df.Valor - mediana_ncb\n",
    "    \n",
    "    lim = 400\n",
    "    df['dif_valor_lim'] = df.Valor - lim\n",
    "    \n",
    "    return(df)"
   ]
  },
  {
   "cell_type": "code",
   "execution_count": 7,
   "id": "24d75a52-6ce1-4ca8-9851-bf3daccd3a53",
   "metadata": {},
   "outputs": [],
   "source": [
    "%%capture --no-display\n",
    "\n",
    "base = preprocess_data(base, None, modo='fit')\n",
    "submissao = preprocess_data(submissao, base, modo='transform')"
   ]
  },
  {
   "cell_type": "markdown",
   "id": "59651fbb-2673-4403-8f51-d508b9ec87c8",
   "metadata": {
    "tags": []
   },
   "source": [
    "### Qual o perfil transacional do cliente?"
   ]
  },
  {
   "cell_type": "code",
   "execution_count": 8,
   "id": "b431796b-cf60-462d-be83-be44daf67275",
   "metadata": {},
   "outputs": [
    {
     "data": {
      "text/html": [
       "<div>\n",
       "<style scoped>\n",
       "    .dataframe tbody tr th:only-of-type {\n",
       "        vertical-align: middle;\n",
       "    }\n",
       "\n",
       "    .dataframe tbody tr th {\n",
       "        vertical-align: top;\n",
       "    }\n",
       "\n",
       "    .dataframe thead th {\n",
       "        text-align: right;\n",
       "    }\n",
       "</style>\n",
       "<table border=\"1\" class=\"dataframe\">\n",
       "  <thead>\n",
       "    <tr style=\"text-align: right;\">\n",
       "      <th></th>\n",
       "      <th>Dia</th>\n",
       "      <th>Hora</th>\n",
       "      <th>Valor</th>\n",
       "      <th>Cartão</th>\n",
       "      <th>CBK</th>\n",
       "      <th>data_hora</th>\n",
       "      <th>hora_h</th>\n",
       "      <th>dia_sem</th>\n",
       "      <th>semana_mes</th>\n",
       "      <th>n_cbk_anteriores</th>\n",
       "      <th>historico_cbk</th>\n",
       "      <th>n_transacoes_tempo</th>\n",
       "      <th>dif_mediana_cliente_cb</th>\n",
       "      <th>dif_mediana_cliente_ncb</th>\n",
       "      <th>dif_valor_lim</th>\n",
       "    </tr>\n",
       "  </thead>\n",
       "  <tbody>\n",
       "    <tr>\n",
       "      <th>count</th>\n",
       "      <td>11128</td>\n",
       "      <td>11128</td>\n",
       "      <td>11128.000000</td>\n",
       "      <td>11128</td>\n",
       "      <td>11128.000000</td>\n",
       "      <td>11128</td>\n",
       "      <td>11128.000000</td>\n",
       "      <td>11128.000000</td>\n",
       "      <td>11128.000000</td>\n",
       "      <td>11128.000000</td>\n",
       "      <td>11128.000000</td>\n",
       "      <td>11128.000000</td>\n",
       "      <td>11128.000000</td>\n",
       "      <td>11128.000000</td>\n",
       "      <td>11128.000000</td>\n",
       "    </tr>\n",
       "    <tr>\n",
       "      <th>unique</th>\n",
       "      <td>NaN</td>\n",
       "      <td>10044</td>\n",
       "      <td>NaN</td>\n",
       "      <td>9260</td>\n",
       "      <td>NaN</td>\n",
       "      <td>NaN</td>\n",
       "      <td>NaN</td>\n",
       "      <td>NaN</td>\n",
       "      <td>NaN</td>\n",
       "      <td>NaN</td>\n",
       "      <td>NaN</td>\n",
       "      <td>NaN</td>\n",
       "      <td>NaN</td>\n",
       "      <td>NaN</td>\n",
       "      <td>NaN</td>\n",
       "    </tr>\n",
       "    <tr>\n",
       "      <th>top</th>\n",
       "      <td>NaN</td>\n",
       "      <td>16:03:01</td>\n",
       "      <td>NaN</td>\n",
       "      <td>552289******7788</td>\n",
       "      <td>NaN</td>\n",
       "      <td>NaN</td>\n",
       "      <td>NaN</td>\n",
       "      <td>NaN</td>\n",
       "      <td>NaN</td>\n",
       "      <td>NaN</td>\n",
       "      <td>NaN</td>\n",
       "      <td>NaN</td>\n",
       "      <td>NaN</td>\n",
       "      <td>NaN</td>\n",
       "      <td>NaN</td>\n",
       "    </tr>\n",
       "    <tr>\n",
       "      <th>freq</th>\n",
       "      <td>NaN</td>\n",
       "      <td>4</td>\n",
       "      <td>NaN</td>\n",
       "      <td>20</td>\n",
       "      <td>NaN</td>\n",
       "      <td>NaN</td>\n",
       "      <td>NaN</td>\n",
       "      <td>NaN</td>\n",
       "      <td>NaN</td>\n",
       "      <td>NaN</td>\n",
       "      <td>NaN</td>\n",
       "      <td>NaN</td>\n",
       "      <td>NaN</td>\n",
       "      <td>NaN</td>\n",
       "      <td>NaN</td>\n",
       "    </tr>\n",
       "    <tr>\n",
       "      <th>mean</th>\n",
       "      <td>2015-05-16 02:16:31.229331456</td>\n",
       "      <td>NaN</td>\n",
       "      <td>129.550076</td>\n",
       "      <td>NaN</td>\n",
       "      <td>0.051402</td>\n",
       "      <td>2015-05-16 18:06:43.237329152</td>\n",
       "      <td>15.338785</td>\n",
       "      <td>2.753505</td>\n",
       "      <td>20.334472</td>\n",
       "      <td>-0.703451</td>\n",
       "      <td>-0.795740</td>\n",
       "      <td>0.169752</td>\n",
       "      <td>-2.449924</td>\n",
       "      <td>30.550076</td>\n",
       "      <td>-270.449924</td>\n",
       "    </tr>\n",
       "    <tr>\n",
       "      <th>min</th>\n",
       "      <td>2015-05-01 00:00:00</td>\n",
       "      <td>NaN</td>\n",
       "      <td>1.000000</td>\n",
       "      <td>NaN</td>\n",
       "      <td>0.000000</td>\n",
       "      <td>2015-05-01 00:01:54</td>\n",
       "      <td>0.000000</td>\n",
       "      <td>0.000000</td>\n",
       "      <td>18.000000</td>\n",
       "      <td>-1.000000</td>\n",
       "      <td>-1.000000</td>\n",
       "      <td>0.000000</td>\n",
       "      <td>-131.000000</td>\n",
       "      <td>-98.000000</td>\n",
       "      <td>-399.000000</td>\n",
       "    </tr>\n",
       "    <tr>\n",
       "      <th>25%</th>\n",
       "      <td>2015-05-09 00:00:00</td>\n",
       "      <td>NaN</td>\n",
       "      <td>55.000000</td>\n",
       "      <td>NaN</td>\n",
       "      <td>0.000000</td>\n",
       "      <td>2015-05-09 19:16:07.500000</td>\n",
       "      <td>12.000000</td>\n",
       "      <td>1.000000</td>\n",
       "      <td>19.000000</td>\n",
       "      <td>-1.000000</td>\n",
       "      <td>-1.000000</td>\n",
       "      <td>0.000000</td>\n",
       "      <td>-77.000000</td>\n",
       "      <td>-44.000000</td>\n",
       "      <td>-345.000000</td>\n",
       "    </tr>\n",
       "    <tr>\n",
       "      <th>50%</th>\n",
       "      <td>2015-05-15 00:00:00</td>\n",
       "      <td>NaN</td>\n",
       "      <td>99.000000</td>\n",
       "      <td>NaN</td>\n",
       "      <td>0.000000</td>\n",
       "      <td>2015-05-15 11:03:19</td>\n",
       "      <td>16.000000</td>\n",
       "      <td>3.000000</td>\n",
       "      <td>20.000000</td>\n",
       "      <td>-1.000000</td>\n",
       "      <td>-1.000000</td>\n",
       "      <td>0.000000</td>\n",
       "      <td>-33.000000</td>\n",
       "      <td>0.000000</td>\n",
       "      <td>-301.000000</td>\n",
       "    </tr>\n",
       "    <tr>\n",
       "      <th>75%</th>\n",
       "      <td>2015-05-23 00:00:00</td>\n",
       "      <td>NaN</td>\n",
       "      <td>154.000000</td>\n",
       "      <td>NaN</td>\n",
       "      <td>0.000000</td>\n",
       "      <td>2015-05-23 21:04:15.750000128</td>\n",
       "      <td>19.000000</td>\n",
       "      <td>4.000000</td>\n",
       "      <td>21.000000</td>\n",
       "      <td>-1.000000</td>\n",
       "      <td>-1.000000</td>\n",
       "      <td>0.000000</td>\n",
       "      <td>22.000000</td>\n",
       "      <td>55.000000</td>\n",
       "      <td>-246.000000</td>\n",
       "    </tr>\n",
       "    <tr>\n",
       "      <th>max</th>\n",
       "      <td>2015-05-30 00:00:00</td>\n",
       "      <td>NaN</td>\n",
       "      <td>2920.000000</td>\n",
       "      <td>NaN</td>\n",
       "      <td>1.000000</td>\n",
       "      <td>2015-05-30 23:51:31</td>\n",
       "      <td>23.000000</td>\n",
       "      <td>6.000000</td>\n",
       "      <td>22.000000</td>\n",
       "      <td>19.000000</td>\n",
       "      <td>1.000000</td>\n",
       "      <td>19.000000</td>\n",
       "      <td>2788.000000</td>\n",
       "      <td>2821.000000</td>\n",
       "      <td>2520.000000</td>\n",
       "    </tr>\n",
       "    <tr>\n",
       "      <th>std</th>\n",
       "      <td>NaN</td>\n",
       "      <td>NaN</td>\n",
       "      <td>141.420554</td>\n",
       "      <td>NaN</td>\n",
       "      <td>0.220826</td>\n",
       "      <td>NaN</td>\n",
       "      <td>5.179208</td>\n",
       "      <td>1.775250</td>\n",
       "      <td>1.173197</td>\n",
       "      <td>1.108696</td>\n",
       "      <td>0.485127</td>\n",
       "      <td>0.846243</td>\n",
       "      <td>141.420554</td>\n",
       "      <td>141.420554</td>\n",
       "      <td>141.420554</td>\n",
       "    </tr>\n",
       "  </tbody>\n",
       "</table>\n",
       "</div>"
      ],
      "text/plain": [
       "                                  Dia      Hora         Valor  \\\n",
       "count                           11128     11128  11128.000000   \n",
       "unique                            NaN     10044           NaN   \n",
       "top                               NaN  16:03:01           NaN   \n",
       "freq                              NaN         4           NaN   \n",
       "mean    2015-05-16 02:16:31.229331456       NaN    129.550076   \n",
       "min               2015-05-01 00:00:00       NaN      1.000000   \n",
       "25%               2015-05-09 00:00:00       NaN     55.000000   \n",
       "50%               2015-05-15 00:00:00       NaN     99.000000   \n",
       "75%               2015-05-23 00:00:00       NaN    154.000000   \n",
       "max               2015-05-30 00:00:00       NaN   2920.000000   \n",
       "std                               NaN       NaN    141.420554   \n",
       "\n",
       "                  Cartão           CBK                      data_hora  \\\n",
       "count              11128  11128.000000                          11128   \n",
       "unique              9260           NaN                            NaN   \n",
       "top     552289******7788           NaN                            NaN   \n",
       "freq                  20           NaN                            NaN   \n",
       "mean                 NaN      0.051402  2015-05-16 18:06:43.237329152   \n",
       "min                  NaN      0.000000            2015-05-01 00:01:54   \n",
       "25%                  NaN      0.000000     2015-05-09 19:16:07.500000   \n",
       "50%                  NaN      0.000000            2015-05-15 11:03:19   \n",
       "75%                  NaN      0.000000  2015-05-23 21:04:15.750000128   \n",
       "max                  NaN      1.000000            2015-05-30 23:51:31   \n",
       "std                  NaN      0.220826                            NaN   \n",
       "\n",
       "              hora_h       dia_sem    semana_mes  n_cbk_anteriores  \\\n",
       "count   11128.000000  11128.000000  11128.000000      11128.000000   \n",
       "unique           NaN           NaN           NaN               NaN   \n",
       "top              NaN           NaN           NaN               NaN   \n",
       "freq             NaN           NaN           NaN               NaN   \n",
       "mean       15.338785      2.753505     20.334472         -0.703451   \n",
       "min         0.000000      0.000000     18.000000         -1.000000   \n",
       "25%        12.000000      1.000000     19.000000         -1.000000   \n",
       "50%        16.000000      3.000000     20.000000         -1.000000   \n",
       "75%        19.000000      4.000000     21.000000         -1.000000   \n",
       "max        23.000000      6.000000     22.000000         19.000000   \n",
       "std         5.179208      1.775250      1.173197          1.108696   \n",
       "\n",
       "        historico_cbk  n_transacoes_tempo  dif_mediana_cliente_cb  \\\n",
       "count    11128.000000        11128.000000            11128.000000   \n",
       "unique            NaN                 NaN                     NaN   \n",
       "top               NaN                 NaN                     NaN   \n",
       "freq              NaN                 NaN                     NaN   \n",
       "mean        -0.795740            0.169752               -2.449924   \n",
       "min         -1.000000            0.000000             -131.000000   \n",
       "25%         -1.000000            0.000000              -77.000000   \n",
       "50%         -1.000000            0.000000              -33.000000   \n",
       "75%         -1.000000            0.000000               22.000000   \n",
       "max          1.000000           19.000000             2788.000000   \n",
       "std          0.485127            0.846243              141.420554   \n",
       "\n",
       "        dif_mediana_cliente_ncb  dif_valor_lim  \n",
       "count              11128.000000   11128.000000  \n",
       "unique                      NaN            NaN  \n",
       "top                         NaN            NaN  \n",
       "freq                        NaN            NaN  \n",
       "mean                  30.550076    -270.449924  \n",
       "min                  -98.000000    -399.000000  \n",
       "25%                  -44.000000    -345.000000  \n",
       "50%                    0.000000    -301.000000  \n",
       "75%                   55.000000    -246.000000  \n",
       "max                 2821.000000    2520.000000  \n",
       "std                  141.420554     141.420554  "
      ]
     },
     "execution_count": 8,
     "metadata": {},
     "output_type": "execute_result"
    }
   ],
   "source": [
    "base.describe(include='all', datetime_is_numeric=True)"
   ]
  },
  {
   "cell_type": "code",
   "execution_count": 9,
   "id": "5160e46d-fb69-456b-b1a8-7d69cd7a9f15",
   "metadata": {},
   "outputs": [
    {
     "data": {
      "application/vnd.jupyter.widget-view+json": {
       "model_id": "89a9c64e488c4350a6f424965c1a1437",
       "version_major": 2,
       "version_minor": 0
      },
      "text/plain": [
       "                                             |      | [  0%]   00:00 -> (? left)"
      ]
     },
     "metadata": {},
     "output_type": "display_data"
    },
    {
     "name": "stdout",
     "output_type": "stream",
     "text": [
      "Report report.html was generated.\n"
     ]
    }
   ],
   "source": [
    "import sweetviz as sv\n",
    "analyze_report = sv.analyze(base)\n",
    "analyze_report.show_html('report.html', open_browser=False)"
   ]
  },
  {
   "cell_type": "code",
   "execution_count": 10,
   "id": "3ba5bdc3-e9d8-48c3-a00e-50a3d2edbc44",
   "metadata": {},
   "outputs": [],
   "source": [
    "import matplotlib.pyplot as plt\n",
    "import seaborn as sns"
   ]
  },
  {
   "cell_type": "code",
   "execution_count": 11,
   "id": "729378df-f5c0-4915-a6f8-a75ecf7798df",
   "metadata": {},
   "outputs": [],
   "source": [
    "def barplot_var(serie, top=None, normalize=True, sort_by='index', sort_asc=True):\n",
    "    \n",
    "    df = serie.value_counts(normalize=normalize).reset_index(name='counts').sort_values(sort_by, ascending=sort_asc)\n",
    "    if top:\n",
    "        df = df.head(top)\n",
    "    sns.barplot(x='index', y='counts', data=df)\n",
    "    pos, label = plt.xticks(rotation = 'vertical')"
   ]
  },
  {
   "cell_type": "code",
   "execution_count": 12,
   "id": "276c0684-6437-49ee-a0ef-c5c2d96f6533",
   "metadata": {},
   "outputs": [
    {
     "data": {
      "image/png": "[encoded data removed]",
      "text/plain": [
       "<Figure size 600x400 with 1 Axes>"
      ]
     },
     "metadata": {},
     "output_type": "display_data"
    }
   ],
   "source": [
    "barplot_var(base.hora_h)"
   ]
  },
  {
   "cell_type": "code",
   "execution_count": 13,
   "id": "c09b5775-7c60-49d4-881c-129937368c41",
   "metadata": {},
   "outputs": [
    {
     "data": {
      "image/png": "[encoded data removed]",
      "text/plain": [
       "<Figure size 600x400 with 1 Axes>"
      ]
     },
     "metadata": {},
     "output_type": "display_data"
    }
   ],
   "source": [
    "barplot_var(base.Dia)"
   ]
  },
  {
   "cell_type": "code",
   "execution_count": 14,
   "id": "b79cfc7e-41a9-4f87-97fc-785bb37ac941",
   "metadata": {},
   "outputs": [
    {
     "data": {
      "image/png": "[encoded data removed]",
      "text/plain": [
       "<Figure size 600x400 with 1 Axes>"
      ]
     },
     "metadata": {},
     "output_type": "display_data"
    }
   ],
   "source": [
    "barplot_var(base.dia_sem)"
   ]
  },
  {
   "cell_type": "code",
   "execution_count": 15,
   "id": "3d08b22f-fc2e-4b4e-8e60-a884cc22d2c1",
   "metadata": {},
   "outputs": [
    {
     "data": {
      "text/plain": [
       "<AxesSubplot:xlabel='Valor'>"
      ]
     },
     "execution_count": 15,
     "metadata": {},
     "output_type": "execute_result"
    },
    {
     "data": {
      "image/png": "[encoded data removed]",
      "text/plain": [
       "<Figure size 600x400 with 1 Axes>"
      ]
     },
     "metadata": {},
     "output_type": "display_data"
    }
   ],
   "source": [
    "sns.boxplot(x='Valor', data=base)"
   ]
  },
  {
   "cell_type": "code",
   "execution_count": 16,
   "id": "67779d7e-f74c-4893-b140-fe597fd1bc25",
   "metadata": {},
   "outputs": [
    {
     "data": {
      "image/png": "[encoded data removed]",
      "text/plain": [
       "<Figure size 600x400 with 1 Axes>"
      ]
     },
     "metadata": {},
     "output_type": "display_data"
    }
   ],
   "source": [
    "barplot_var(base['Cartão'], top=50, normalize=False, sort_by='counts', sort_asc=False)"
   ]
  },
  {
   "cell_type": "code",
   "execution_count": 17,
   "id": "92a6f8e6-0dc0-4cc0-8c83-3e997adea117",
   "metadata": {},
   "outputs": [
    {
     "name": "stdout",
     "output_type": "stream",
     "text": [
      "1     7963\n",
      "2     1004\n",
      "3      184\n",
      "4       50\n",
      "5       27\n",
      "6       14\n",
      "8        8\n",
      "20       2\n",
      "12       2\n",
      "10       2\n",
      "7        2\n",
      "15       1\n",
      "9        1\n",
      "Name: n_pagamentos, dtype: int64\n"
     ]
    },
    {
     "data": {
      "text/plain": [
       "<AxesSubplot:xlabel='n_pagamentos', ylabel='Count'>"
      ]
     },
     "execution_count": 17,
     "metadata": {},
     "output_type": "execute_result"
    },
    {
     "data": {
      "image/png": "[encoded data removed]",
      "text/plain": [
       "<Figure size 600x400 with 1 Axes>"
      ]
     },
     "metadata": {},
     "output_type": "display_data"
    }
   ],
   "source": [
    "count_cartao = base['Cartão'].value_counts().reset_index(name='n_pagamentos')\n",
    "print(count_cartao.n_pagamentos.value_counts())\n",
    "sns.histplot(count_cartao, x='n_pagamentos', bins=30)"
   ]
  },
  {
   "cell_type": "code",
   "execution_count": 18,
   "id": "d52e21ff-1149-44a2-8be1-aa254043de08",
   "metadata": {},
   "outputs": [
    {
     "data": {
      "text/plain": [
       "0    0.948598\n",
       "1    0.051402\n",
       "Name: CBK, dtype: float64"
      ]
     },
     "execution_count": 18,
     "metadata": {},
     "output_type": "execute_result"
    }
   ],
   "source": [
    "base.CBK.value_counts(normalize=True)"
   ]
  },
  {
   "cell_type": "markdown",
   "id": "c3a0e7b9-6213-4f50-8f5d-60784863b226",
   "metadata": {},
   "source": [
    "#### Características\n",
    "* O cliente tem transações acontecendo 24h por dia, 7 dias por semana.\n",
    "* As transações tem ticket médio de 130 reais, sendo metade das transações com valor de até 99 reais e 90% das transações tem valor de até 336 reais.\n",
    "* 98.82% ((7963+1004+184)/9260) dos cartões usados para fazer transações, foram utilizados até 3 vezes no mes.\n",
    "\n",
    "#### Conclusão\n",
    "O cliente faz muitas transações com poucos cartões e poucas transações com muitos cartões diferentes, indicativo de alta rotatividade de cartões que fazem compra com ele. Devido o ticket médio de 130 reais, mediana de 99 reais e 90% das transações terem valor de até 336 reais, pode-se entender que o valor das transações não costumam ser altos.\n",
    "\n",
    "* Sabendo que pode-se lucrar com transações altas ou com muitas transações de valor baixo e assumindo que o ticket médio de 130 reais é relativamente baixo, suponho que lucro dele deve vir principalmente da quantidade de transações que é feita.\n",
    "\n"
   ]
  },
  {
   "cell_type": "markdown",
   "id": "a421e552-3da2-4662-9439-94aae08b93d3",
   "metadata": {},
   "source": [
    "### Qual o perfil das transações que retornaram chargeback?"
   ]
  },
  {
   "cell_type": "code",
   "execution_count": 19,
   "id": "3a169ec2-acc2-4b60-ac29-51a7cee88977",
   "metadata": {},
   "outputs": [],
   "source": [
    "from scipy import stats"
   ]
  },
  {
   "cell_type": "markdown",
   "id": "8b1400a6-868a-4e30-97dc-e06a1d91e82a",
   "metadata": {},
   "source": [
    "#### Numero de CBK em transacoes que aconteceram mais de uma vez com o mesmo cartao"
   ]
  },
  {
   "cell_type": "code",
   "execution_count": 20,
   "id": "9541d5e3-27c9-4805-891d-01453d47e33b",
   "metadata": {},
   "outputs": [
    {
     "name": "stdout",
     "output_type": "stream",
     "text": [
      "CBK em primeira transacao: 179\n",
      "CBK em segunda ou posteriores transacoes: 393\n"
     ]
    }
   ],
   "source": [
    "cbk_primeira_transacao = len(base[(base.CBK==1) & (base.n_cbk_anteriores == -1)])\n",
    "cbk_outras = len(base[(base.CBK==1) & (base.n_cbk_anteriores != -1)])\n",
    "\n",
    "print('CBK em primeira transacao: ' + str(cbk_primeira_transacao))\n",
    "print('CBK em segunda ou posteriores transacoes: ' + str(cbk_outras))"
   ]
  },
  {
   "cell_type": "markdown",
   "id": "6f20c8fa-2755-401f-944c-ff8a918966a1",
   "metadata": {},
   "source": [
    "#### Valor de transações chargeback são maiores que não chargeback?"
   ]
  },
  {
   "cell_type": "code",
   "execution_count": 21,
   "id": "23800e1a-2926-4bf9-a9d3-d4d7d495be2e",
   "metadata": {},
   "outputs": [
    {
     "data": {
      "text/plain": [
       "<AxesSubplot:xlabel='CBK', ylabel='Valor'>"
      ]
     },
     "execution_count": 21,
     "metadata": {},
     "output_type": "execute_result"
    },
    {
     "data": {
      "image/png": "[encoded data removed]",
      "text/plain": [
       "<Figure size 600x400 with 1 Axes>"
      ]
     },
     "metadata": {},
     "output_type": "display_data"
    }
   ],
   "source": [
    "sns.boxplot(x='CBK', y='Valor', data=base)"
   ]
  },
  {
   "cell_type": "code",
   "execution_count": 22,
   "id": "bb37dda2-4564-43d4-93cd-c7714f72eecc",
   "metadata": {},
   "outputs": [
    {
     "data": {
      "image/png": "[encoded data removed]",
      "text/plain": [
       "<Figure size 600x400 with 1 Axes>"
      ]
     },
     "metadata": {},
     "output_type": "display_data"
    }
   ],
   "source": [
    "plot_valor_box = sns.boxplot(x='CBK', y='Valor', data=base)\n",
    "plot_valor_box_lim = plot_valor_box.set(ylim=(0, 450))"
   ]
  },
  {
   "cell_type": "code",
   "execution_count": 23,
   "id": "ecc592d1-42a1-43b3-ab5a-464dfce1c066",
   "metadata": {},
   "outputs": [],
   "source": [
    "# h0: dados sao normais\n",
    "# h1: dados nao sao normais\n",
    "def testa_normalidade(dados):\n",
    "    w, p_valor = stats.shapiro(dados)\n",
    "    if p_valor < 0.05:\n",
    "        print(\"dados nao sao normais\")\n",
    "    else:\n",
    "        print(\"dados seguem distribuicao normal\")"
   ]
  },
  {
   "cell_type": "code",
   "execution_count": 24,
   "id": "6c3006ac-43d5-4326-984d-71b32eb81148",
   "metadata": {},
   "outputs": [
    {
     "name": "stdout",
     "output_type": "stream",
     "text": [
      "dados nao sao normais\n"
     ]
    }
   ],
   "source": [
    "testa_normalidade(base[base.CBK == 1].Valor)"
   ]
  },
  {
   "cell_type": "code",
   "execution_count": 25,
   "id": "d3b69857-ff3e-48b4-9fea-bde2faa35468",
   "metadata": {},
   "outputs": [
    {
     "name": "stdout",
     "output_type": "stream",
     "text": [
      "H1: Media dos valores de chargeback é maior que a media dos não chargeback\n"
     ]
    }
   ],
   "source": [
    "# h0: media_x <= media_y\n",
    "# h1: media_x > media_y\n",
    "u, p_valor = stats.mannwhitneyu(base[base.CBK == 1].Valor, base[base.CBK == 0].Valor, alternative=\"greater\")\n",
    "if p_valor < 0.05:\n",
    "    print(\"H1: Media dos valores de chargeback é maior que a media dos não chargeback\")\n",
    "else:\n",
    "    print(\"H0: Media dos valores de chargeback é menor ou igual à media dos não chargeback\")"
   ]
  },
  {
   "cell_type": "markdown",
   "id": "b1ff208b-c09a-4bbd-8695-99c0f70e7104",
   "metadata": {
    "tags": []
   },
   "source": [
    "#### Distribuição de CBK por valor de transação"
   ]
  },
  {
   "cell_type": "code",
   "execution_count": 26,
   "id": "baa09fcf-2589-42c2-9b79-b64bdaba323d",
   "metadata": {},
   "outputs": [
    {
     "data": {
      "text/plain": [
       "<AxesSubplot:xlabel='valor', ylabel='percent'>"
      ]
     },
     "execution_count": 26,
     "metadata": {},
     "output_type": "execute_result"
    },
    {
     "data": {
      "image/png": "[encoded data removed]",
      "text/plain": [
       "<Figure size 600x400 with 1 Axes>"
      ]
     },
     "metadata": {},
     "output_type": "display_data"
    }
   ],
   "source": [
    "per_dists = []\n",
    "for valor in range(50, 1500, 50):\n",
    "    dist = base[['Cartão','Valor','CBK']].drop_duplicates()\n",
    "    per_dist = dist[(dist.Valor >= valor)].CBK.value_counts(normalize=True).reset_index(name='percent').rename({'index':'CBK'}, axis=1)\n",
    "    per_dist['valor'] = valor\n",
    "    per_dists.append(per_dist)\n",
    "per_dists = pd.concat(per_dists).reset_index(drop=True)\n",
    "\n",
    "sns.lineplot(data=per_dists, x='valor', y='percent', hue='CBK')"
   ]
  },
  {
   "cell_type": "markdown",
   "id": "2bba20b9-3206-4be8-88b1-d3bdcff4a4e9",
   "metadata": {},
   "source": [
    "#### Transações chargeback ocorrem mais vezes que não chargeback em 1h?"
   ]
  },
  {
   "cell_type": "code",
   "execution_count": 27,
   "id": "b44a11c0-fc7c-4669-b589-f9736e8b7bc1",
   "metadata": {},
   "outputs": [
    {
     "data": {
      "text/html": [
       "<div>\n",
       "<style scoped>\n",
       "    .dataframe tbody tr th:only-of-type {\n",
       "        vertical-align: middle;\n",
       "    }\n",
       "\n",
       "    .dataframe tbody tr th {\n",
       "        vertical-align: top;\n",
       "    }\n",
       "\n",
       "    .dataframe thead th {\n",
       "        text-align: right;\n",
       "    }\n",
       "</style>\n",
       "<table border=\"1\" class=\"dataframe\">\n",
       "  <thead>\n",
       "    <tr style=\"text-align: right;\">\n",
       "      <th></th>\n",
       "      <th>Cartão</th>\n",
       "      <th>CBK</th>\n",
       "      <th>n_transacoes_anterior_1h</th>\n",
       "    </tr>\n",
       "  </thead>\n",
       "  <tbody>\n",
       "    <tr>\n",
       "      <th>0</th>\n",
       "      <td>552289******7788</td>\n",
       "      <td>1</td>\n",
       "      <td>19</td>\n",
       "    </tr>\n",
       "    <tr>\n",
       "      <th>1</th>\n",
       "      <td>544828******8377</td>\n",
       "      <td>1</td>\n",
       "      <td>14</td>\n",
       "    </tr>\n",
       "    <tr>\n",
       "      <th>2</th>\n",
       "      <td>400217******7228</td>\n",
       "      <td>1</td>\n",
       "      <td>11</td>\n",
       "    </tr>\n",
       "    <tr>\n",
       "      <th>3</th>\n",
       "      <td>521397******2711</td>\n",
       "      <td>1</td>\n",
       "      <td>10</td>\n",
       "    </tr>\n",
       "    <tr>\n",
       "      <th>4</th>\n",
       "      <td>498408******0601</td>\n",
       "      <td>1</td>\n",
       "      <td>9</td>\n",
       "    </tr>\n",
       "    <tr>\n",
       "      <th>...</th>\n",
       "      <td>...</td>\n",
       "      <td>...</td>\n",
       "      <td>...</td>\n",
       "    </tr>\n",
       "    <tr>\n",
       "      <th>9271</th>\n",
       "      <td>470598******8025</td>\n",
       "      <td>0</td>\n",
       "      <td>0</td>\n",
       "    </tr>\n",
       "    <tr>\n",
       "      <th>9272</th>\n",
       "      <td>470598******7975</td>\n",
       "      <td>0</td>\n",
       "      <td>0</td>\n",
       "    </tr>\n",
       "    <tr>\n",
       "      <th>9273</th>\n",
       "      <td>470598******7812</td>\n",
       "      <td>0</td>\n",
       "      <td>0</td>\n",
       "    </tr>\n",
       "    <tr>\n",
       "      <th>9274</th>\n",
       "      <td>470598******7598</td>\n",
       "      <td>0</td>\n",
       "      <td>0</td>\n",
       "    </tr>\n",
       "    <tr>\n",
       "      <th>9275</th>\n",
       "      <td>558285******7261</td>\n",
       "      <td>0</td>\n",
       "      <td>0</td>\n",
       "    </tr>\n",
       "  </tbody>\n",
       "</table>\n",
       "<p>9276 rows × 3 columns</p>\n",
       "</div>"
      ],
      "text/plain": [
       "                Cartão  CBK  n_transacoes_anterior_1h\n",
       "0     552289******7788    1                        19\n",
       "1     544828******8377    1                        14\n",
       "2     400217******7228    1                        11\n",
       "3     521397******2711    1                        10\n",
       "4     498408******0601    1                         9\n",
       "...                ...  ...                       ...\n",
       "9271  470598******8025    0                         0\n",
       "9272  470598******7975    0                         0\n",
       "9273  470598******7812    0                         0\n",
       "9274  470598******7598    0                         0\n",
       "9275  558285******7261    0                         0\n",
       "\n",
       "[9276 rows x 3 columns]"
      ]
     },
     "execution_count": 27,
     "metadata": {},
     "output_type": "execute_result"
    }
   ],
   "source": [
    "transacoes_1h = base.groupby(['Cartão','CBK']).n_transacoes_tempo.max().reset_index(name='n_transacoes_anterior_1h')\n",
    "transacoes_1h = transacoes_1h.sort_values('n_transacoes_anterior_1h', ascending=False).reset_index(drop=True)\n",
    "transacoes_1h"
   ]
  },
  {
   "cell_type": "code",
   "execution_count": 28,
   "id": "d338269e-336a-448b-96dc-25afc93eb3f4",
   "metadata": {},
   "outputs": [
    {
     "data": {
      "text/plain": [
       "<AxesSubplot:xlabel='CBK', ylabel='n_transacoes_anterior_1h'>"
      ]
     },
     "execution_count": 28,
     "metadata": {},
     "output_type": "execute_result"
    },
    {
     "data": {
      "image/png": "[encoded data removed]",
      "text/plain": [
       "<Figure size 600x400 with 1 Axes>"
      ]
     },
     "metadata": {},
     "output_type": "display_data"
    }
   ],
   "source": [
    "sns.stripplot(data=transacoes_1h, x='CBK', y='n_transacoes_anterior_1h', alpha=0.3)"
   ]
  },
  {
   "cell_type": "markdown",
   "id": "5e10eafc-6fe2-4057-bae9-b0f51f709a5e",
   "metadata": {},
   "source": [
    "### Transações com cartão que já teve CBK está mais propenso a ter CBK?"
   ]
  },
  {
   "cell_type": "code",
   "execution_count": 29,
   "id": "6df48b42-2a03-4dd3-bdf2-8b3743210c2e",
   "metadata": {},
   "outputs": [
    {
     "data": {
      "text/plain": [
       "CBK  historico_cbk\n",
       "1    1                387\n",
       "0    1                 18\n",
       "dtype: int64"
      ]
     },
     "execution_count": 29,
     "metadata": {},
     "output_type": "execute_result"
    }
   ],
   "source": [
    "n_transacao_cartao = base['Cartão'].value_counts().reset_index(name='n_transacoes')\n",
    "cartoes_multi_transacao = n_transacao_cartao[n_transacao_cartao.n_transacoes >= 2]['index']\n",
    "\n",
    "transacoes_cartoes_2_mais_vezes = base[base.Cartão.isin(cartoes_multi_transacao) & (base.historico_cbk == 1)]\n",
    "transacoes_cartoes_2_mais_vezes[['CBK','historico_cbk']].value_counts()"
   ]
  },
  {
   "cell_type": "markdown",
   "id": "018554a6-15a3-41ac-a2e6-62776b1d8c52",
   "metadata": {},
   "source": [
    "#### Conclusão\n",
    "\n",
    "Transações que retornam chargeback acontecem mais frequentemente em cartões que já tiveram alguma transação passada com CBK, em transações com o mesmo cartão que acontece repetidas vezes em um período curto de tempo (1h no exemplo) e geralmente tendem a ter valor mais alto que transações que não tem CBK."
   ]
  },
  {
   "cell_type": "markdown",
   "id": "71802c40-be01-491b-ac63-f71c728b2290",
   "metadata": {},
   "source": [
    "### Previsão de Chargeback"
   ]
  },
  {
   "cell_type": "code",
   "execution_count": 30,
   "id": "f08f0c1b-7f72-43c2-85be-d2b1bee0e03e",
   "metadata": {},
   "outputs": [
    {
     "data": {
      "text/html": [
       "<div>\n",
       "<style scoped>\n",
       "    .dataframe tbody tr th:only-of-type {\n",
       "        vertical-align: middle;\n",
       "    }\n",
       "\n",
       "    .dataframe tbody tr th {\n",
       "        vertical-align: top;\n",
       "    }\n",
       "\n",
       "    .dataframe thead th {\n",
       "        text-align: right;\n",
       "    }\n",
       "</style>\n",
       "<table border=\"1\" class=\"dataframe\">\n",
       "  <thead>\n",
       "    <tr style=\"text-align: right;\">\n",
       "      <th></th>\n",
       "      <th>Dia</th>\n",
       "      <th>Hora</th>\n",
       "      <th>Valor</th>\n",
       "      <th>Cartão</th>\n",
       "      <th>CBK</th>\n",
       "      <th>data_hora</th>\n",
       "      <th>hora_h</th>\n",
       "      <th>dia_sem</th>\n",
       "      <th>semana_mes</th>\n",
       "      <th>n_cbk_anteriores</th>\n",
       "      <th>historico_cbk</th>\n",
       "      <th>n_transacoes_tempo</th>\n",
       "      <th>dif_mediana_cliente_cb</th>\n",
       "      <th>dif_mediana_cliente_ncb</th>\n",
       "      <th>dif_valor_lim</th>\n",
       "    </tr>\n",
       "  </thead>\n",
       "  <tbody>\n",
       "    <tr>\n",
       "      <th>0</th>\n",
       "      <td>2015-05-01</td>\n",
       "      <td>00:01:54</td>\n",
       "      <td>36.54</td>\n",
       "      <td>536518******2108</td>\n",
       "      <td>0</td>\n",
       "      <td>2015-05-01 00:01:54</td>\n",
       "      <td>0</td>\n",
       "      <td>4</td>\n",
       "      <td>18</td>\n",
       "      <td>-1</td>\n",
       "      <td>-1</td>\n",
       "      <td>0</td>\n",
       "      <td>-95.46</td>\n",
       "      <td>-62.46</td>\n",
       "      <td>-363.46</td>\n",
       "    </tr>\n",
       "    <tr>\n",
       "      <th>1</th>\n",
       "      <td>2015-05-01</td>\n",
       "      <td>00:03:46</td>\n",
       "      <td>36.54</td>\n",
       "      <td>536518******2108</td>\n",
       "      <td>0</td>\n",
       "      <td>2015-05-01 00:03:46</td>\n",
       "      <td>0</td>\n",
       "      <td>4</td>\n",
       "      <td>18</td>\n",
       "      <td>0</td>\n",
       "      <td>0</td>\n",
       "      <td>1</td>\n",
       "      <td>-95.46</td>\n",
       "      <td>-62.46</td>\n",
       "      <td>-363.46</td>\n",
       "    </tr>\n",
       "    <tr>\n",
       "      <th>2</th>\n",
       "      <td>2015-05-01</td>\n",
       "      <td>00:08:50</td>\n",
       "      <td>69.00</td>\n",
       "      <td>453211******1239</td>\n",
       "      <td>0</td>\n",
       "      <td>2015-05-01 00:08:50</td>\n",
       "      <td>0</td>\n",
       "      <td>4</td>\n",
       "      <td>18</td>\n",
       "      <td>-1</td>\n",
       "      <td>-1</td>\n",
       "      <td>0</td>\n",
       "      <td>-63.00</td>\n",
       "      <td>-30.00</td>\n",
       "      <td>-331.00</td>\n",
       "    </tr>\n",
       "    <tr>\n",
       "      <th>3</th>\n",
       "      <td>2015-05-01</td>\n",
       "      <td>00:27:00</td>\n",
       "      <td>193.43</td>\n",
       "      <td>548827******1705</td>\n",
       "      <td>0</td>\n",
       "      <td>2015-05-01 00:27:00</td>\n",
       "      <td>0</td>\n",
       "      <td>4</td>\n",
       "      <td>18</td>\n",
       "      <td>-1</td>\n",
       "      <td>-1</td>\n",
       "      <td>0</td>\n",
       "      <td>61.43</td>\n",
       "      <td>94.43</td>\n",
       "      <td>-206.57</td>\n",
       "    </tr>\n",
       "    <tr>\n",
       "      <th>4</th>\n",
       "      <td>2015-05-01</td>\n",
       "      <td>01:32:46</td>\n",
       "      <td>132.00</td>\n",
       "      <td>531681******9778</td>\n",
       "      <td>0</td>\n",
       "      <td>2015-05-01 01:32:46</td>\n",
       "      <td>1</td>\n",
       "      <td>4</td>\n",
       "      <td>18</td>\n",
       "      <td>-1</td>\n",
       "      <td>-1</td>\n",
       "      <td>0</td>\n",
       "      <td>0.00</td>\n",
       "      <td>33.00</td>\n",
       "      <td>-268.00</td>\n",
       "    </tr>\n",
       "  </tbody>\n",
       "</table>\n",
       "</div>"
      ],
      "text/plain": [
       "         Dia      Hora   Valor            Cartão  CBK           data_hora  \\\n",
       "0 2015-05-01  00:01:54   36.54  536518******2108    0 2015-05-01 00:01:54   \n",
       "1 2015-05-01  00:03:46   36.54  536518******2108    0 2015-05-01 00:03:46   \n",
       "2 2015-05-01  00:08:50   69.00  453211******1239    0 2015-05-01 00:08:50   \n",
       "3 2015-05-01  00:27:00  193.43  548827******1705    0 2015-05-01 00:27:00   \n",
       "4 2015-05-01  01:32:46  132.00  531681******9778    0 2015-05-01 01:32:46   \n",
       "\n",
       "   hora_h  dia_sem  semana_mes  n_cbk_anteriores  historico_cbk  \\\n",
       "0       0        4          18                -1             -1   \n",
       "1       0        4          18                 0              0   \n",
       "2       0        4          18                -1             -1   \n",
       "3       0        4          18                -1             -1   \n",
       "4       1        4          18                -1             -1   \n",
       "\n",
       "   n_transacoes_tempo  dif_mediana_cliente_cb  dif_mediana_cliente_ncb  \\\n",
       "0                   0                  -95.46                   -62.46   \n",
       "1                   1                  -95.46                   -62.46   \n",
       "2                   0                  -63.00                   -30.00   \n",
       "3                   0                   61.43                    94.43   \n",
       "4                   0                    0.00                    33.00   \n",
       "\n",
       "   dif_valor_lim  \n",
       "0        -363.46  \n",
       "1        -363.46  \n",
       "2        -331.00  \n",
       "3        -206.57  \n",
       "4        -268.00  "
      ]
     },
     "execution_count": 30,
     "metadata": {},
     "output_type": "execute_result"
    }
   ],
   "source": [
    "base = base.sort_values('data_hora')\n",
    "base.head()"
   ]
  },
  {
   "cell_type": "code",
   "execution_count": 31,
   "id": "7a5a7dd9-60d6-445d-aaef-5fd7ce649fe7",
   "metadata": {},
   "outputs": [],
   "source": [
    "clf_base = base.drop(['Dia','Hora','Cartão','data_hora', 'semana_mes', 'Valor'], axis=1)"
   ]
  },
  {
   "cell_type": "code",
   "execution_count": 32,
   "id": "cfadeaa7-6932-4d94-b159-538ee05cf713",
   "metadata": {},
   "outputs": [],
   "source": [
    "# divisao temporal faz mais sentido para o problema\n",
    "train_test_split = 0.67\n",
    "idx_split = round(clf_base.shape[0]*train_test_split)\n",
    "idx_split\n",
    "\n",
    "train = clf_base.iloc[:idx_split]\n",
    "test = clf_base.iloc[idx_split:]"
   ]
  },
  {
   "cell_type": "code",
   "execution_count": 33,
   "id": "907baea6-bd96-4a02-8c87-63b41cb65f85",
   "metadata": {},
   "outputs": [],
   "source": [
    "y_train = train.CBK\n",
    "X_train = train.drop('CBK', axis=1)\n",
    "\n",
    "y_test = test.CBK\n",
    "X_test = test.drop('CBK', axis=1)"
   ]
  },
  {
   "cell_type": "code",
   "execution_count": 34,
   "id": "c2862207-8380-4af0-a550-042de883a4ef",
   "metadata": {
    "tags": []
   },
   "outputs": [
    {
     "data": {
      "text/html": [
       "<style>#sk-container-id-1 {color: black;background-color: white;}#sk-container-id-1 pre{padding: 0;}#sk-container-id-1 div.sk-toggleable {background-color: white;}#sk-container-id-1 label.sk-toggleable__label {cursor: pointer;display: block;width: 100%;margin-bottom: 0;padding: 0.3em;box-sizing: border-box;text-align: center;}#sk-container-id-1 label.sk-toggleable__label-arrow:before {content: \"▸\";float: left;margin-right: 0.25em;color: #696969;}#sk-container-id-1 label.sk-toggleable__label-arrow:hover:before {color: black;}#sk-container-id-1 div.sk-estimator:hover label.sk-toggleable__label-arrow:before {color: black;}#sk-container-id-1 div.sk-toggleable__content {max-height: 0;max-width: 0;overflow: hidden;text-align: left;background-color: #f0f8ff;}#sk-container-id-1 div.sk-toggleable__content pre {margin: 0.2em;color: black;border-radius: 0.25em;background-color: #f0f8ff;}#sk-container-id-1 input.sk-toggleable__control:checked~div.sk-toggleable__content {max-height: 200px;max-width: 100%;overflow: auto;}#sk-container-id-1 input.sk-toggleable__control:checked~label.sk-toggleable__label-arrow:before {content: \"▾\";}#sk-container-id-1 div.sk-estimator input.sk-toggleable__control:checked~label.sk-toggleable__label {background-color: #d4ebff;}#sk-container-id-1 div.sk-label input.sk-toggleable__control:checked~label.sk-toggleable__label {background-color: #d4ebff;}#sk-container-id-1 input.sk-hidden--visually {border: 0;clip: rect(1px 1px 1px 1px);clip: rect(1px, 1px, 1px, 1px);height: 1px;margin: -1px;overflow: hidden;padding: 0;position: absolute;width: 1px;}#sk-container-id-1 div.sk-estimator {font-family: monospace;background-color: #f0f8ff;border: 1px dotted black;border-radius: 0.25em;box-sizing: border-box;margin-bottom: 0.5em;}#sk-container-id-1 div.sk-estimator:hover {background-color: #d4ebff;}#sk-container-id-1 div.sk-parallel-item::after {content: \"\";width: 100%;border-bottom: 1px solid gray;flex-grow: 1;}#sk-container-id-1 div.sk-label:hover label.sk-toggleable__label {background-color: #d4ebff;}#sk-container-id-1 div.sk-serial::before {content: \"\";position: absolute;border-left: 1px solid gray;box-sizing: border-box;top: 0;bottom: 0;left: 50%;z-index: 0;}#sk-container-id-1 div.sk-serial {display: flex;flex-direction: column;align-items: center;background-color: white;padding-right: 0.2em;padding-left: 0.2em;position: relative;}#sk-container-id-1 div.sk-item {position: relative;z-index: 1;}#sk-container-id-1 div.sk-parallel {display: flex;align-items: stretch;justify-content: center;background-color: white;position: relative;}#sk-container-id-1 div.sk-item::before, #sk-container-id-1 div.sk-parallel-item::before {content: \"\";position: absolute;border-left: 1px solid gray;box-sizing: border-box;top: 0;bottom: 0;left: 50%;z-index: -1;}#sk-container-id-1 div.sk-parallel-item {display: flex;flex-direction: column;z-index: 1;position: relative;background-color: white;}#sk-container-id-1 div.sk-parallel-item:first-child::after {align-self: flex-end;width: 50%;}#sk-container-id-1 div.sk-parallel-item:last-child::after {align-self: flex-start;width: 50%;}#sk-container-id-1 div.sk-parallel-item:only-child::after {width: 0;}#sk-container-id-1 div.sk-dashed-wrapped {border: 1px dashed gray;margin: 0 0.4em 0.5em 0.4em;box-sizing: border-box;padding-bottom: 0.4em;background-color: white;}#sk-container-id-1 div.sk-label label {font-family: monospace;font-weight: bold;display: inline-block;line-height: 1.2em;}#sk-container-id-1 div.sk-label-container {text-align: center;}#sk-container-id-1 div.sk-container {/* jupyter's `normalize.less` sets `[hidden] { display: none; }` but bootstrap.min.css set `[hidden] { display: none !important; }` so we also need the `!important` here to be able to override the default hidden behavior on the sphinx rendered scikit-learn.org. See: https://github.com/scikit-learn/scikit-learn/issues/21755 */display: inline-block !important;position: relative;}#sk-container-id-1 div.sk-text-repr-fallback {display: none;}</style><div id=\"sk-container-id-1\" class=\"sk-top-container\"><div class=\"sk-text-repr-fallback\"><pre>GridSearchCV(cv=5,\n",
       "             estimator=Pipeline(steps=[(&#x27;scaler&#x27;, StandardScaler()),\n",
       "                                       (&#x27;clf&#x27;, None)]),\n",
       "             param_grid=[{&#x27;clf&#x27;: [RandomForestClassifier(max_depth=5,\n",
       "                                                         n_estimators=50)],\n",
       "                          &#x27;clf__max_depth&#x27;: [5, 10, 15],\n",
       "                          &#x27;clf__min_samples_split&#x27;: [2, 5, 10],\n",
       "                          &#x27;clf__n_estimators&#x27;: [10, 50, 100]},\n",
       "                         {&#x27;clf&#x27;: [SVC()], &#x27;clf__C&#x27;: [0.1, 1, 10],\n",
       "                          &#x27;clf__kernel&#x27;: [&#x27;linear&#x27;, &#x27;rbf&#x27;]}],\n",
       "             scoring=&#x27;f1&#x27;)</pre><b>In a Jupyter environment, please rerun this cell to show the HTML representation or trust the notebook. <br />On GitHub, the HTML representation is unable to render, please try loading this page with nbviewer.org.</b></div><div class=\"sk-container\" hidden><div class=\"sk-item sk-dashed-wrapped\"><div class=\"sk-label-container\"><div class=\"sk-label sk-toggleable\"><input class=\"sk-toggleable__control sk-hidden--visually\" id=\"sk-estimator-id-1\" type=\"checkbox\" ><label for=\"sk-estimator-id-1\" class=\"sk-toggleable__label sk-toggleable__label-arrow\">GridSearchCV</label><div class=\"sk-toggleable__content\"><pre>GridSearchCV(cv=5,\n",
       "             estimator=Pipeline(steps=[(&#x27;scaler&#x27;, StandardScaler()),\n",
       "                                       (&#x27;clf&#x27;, None)]),\n",
       "             param_grid=[{&#x27;clf&#x27;: [RandomForestClassifier(max_depth=5,\n",
       "                                                         n_estimators=50)],\n",
       "                          &#x27;clf__max_depth&#x27;: [5, 10, 15],\n",
       "                          &#x27;clf__min_samples_split&#x27;: [2, 5, 10],\n",
       "                          &#x27;clf__n_estimators&#x27;: [10, 50, 100]},\n",
       "                         {&#x27;clf&#x27;: [SVC()], &#x27;clf__C&#x27;: [0.1, 1, 10],\n",
       "                          &#x27;clf__kernel&#x27;: [&#x27;linear&#x27;, &#x27;rbf&#x27;]}],\n",
       "             scoring=&#x27;f1&#x27;)</pre></div></div></div><div class=\"sk-parallel\"><div class=\"sk-parallel-item\"><div class=\"sk-item\"><div class=\"sk-label-container\"><div class=\"sk-label sk-toggleable\"><input class=\"sk-toggleable__control sk-hidden--visually\" id=\"sk-estimator-id-2\" type=\"checkbox\" ><label for=\"sk-estimator-id-2\" class=\"sk-toggleable__label sk-toggleable__label-arrow\">estimator: Pipeline</label><div class=\"sk-toggleable__content\"><pre>Pipeline(steps=[(&#x27;scaler&#x27;, StandardScaler()), (&#x27;clf&#x27;, None)])</pre></div></div></div><div class=\"sk-serial\"><div class=\"sk-item\"><div class=\"sk-serial\"><div class=\"sk-item\"><div class=\"sk-estimator sk-toggleable\"><input class=\"sk-toggleable__control sk-hidden--visually\" id=\"sk-estimator-id-3\" type=\"checkbox\" ><label for=\"sk-estimator-id-3\" class=\"sk-toggleable__label sk-toggleable__label-arrow\">StandardScaler</label><div class=\"sk-toggleable__content\"><pre>StandardScaler()</pre></div></div></div><div class=\"sk-item\"><div class=\"sk-estimator sk-toggleable\"><input class=\"sk-toggleable__control sk-hidden--visually\" id=\"sk-estimator-id-4\" type=\"checkbox\" ><label for=\"sk-estimator-id-4\" class=\"sk-toggleable__label sk-toggleable__label-arrow\">None</label><div class=\"sk-toggleable__content\"><pre>None</pre></div></div></div></div></div></div></div></div></div></div></div></div>"
      ],
      "text/plain": [
       "GridSearchCV(cv=5,\n",
       "             estimator=Pipeline(steps=[('scaler', StandardScaler()),\n",
       "                                       ('clf', None)]),\n",
       "             param_grid=[{'clf': [RandomForestClassifier(max_depth=5,\n",
       "                                                         n_estimators=50)],\n",
       "                          'clf__max_depth': [5, 10, 15],\n",
       "                          'clf__min_samples_split': [2, 5, 10],\n",
       "                          'clf__n_estimators': [10, 50, 100]},\n",
       "                         {'clf': [SVC()], 'clf__C': [0.1, 1, 10],\n",
       "                          'clf__kernel': ['linear', 'rbf']}],\n",
       "             scoring='f1')"
      ]
     },
     "execution_count": 34,
     "metadata": {},
     "output_type": "execute_result"
    }
   ],
   "source": [
    "# from sklearn.utils import sampling\n",
    "\n",
    "from sklearn.pipeline import Pipeline\n",
    "from sklearn.preprocessing import StandardScaler\n",
    "\n",
    "from sklearn.tree import DecisionTreeClassifier\n",
    "from sklearn.ensemble import RandomForestClassifier\n",
    "from sklearn.linear_model import LogisticRegression\n",
    "from sklearn.svm import SVC\n",
    "\n",
    "from sklearn.model_selection import GridSearchCV\n",
    "\n",
    "from sklearn.metrics import confusion_matrix, precision_recall_fscore_support\n",
    "\n",
    "# Define pipeline\n",
    "clf = Pipeline([\n",
    "    ('scaler', StandardScaler()),\n",
    "    # ('oversample', None),\n",
    "    ('clf', None)\n",
    "])\n",
    "\n",
    "# Define os parâmetros para GridSearch\n",
    "params = [\n",
    "    {\n",
    "        'clf': [RandomForestClassifier()],\n",
    "        'clf__n_estimators': [10, 50, 100],\n",
    "        'clf__max_depth': [5, 10, 15],\n",
    "        'clf__min_samples_split': [2, 5, 10],\n",
    "        # 'oversample': [None, sampling.RandomOverSampler(), sampling.SMOTE()],\n",
    "    },\n",
    "    {\n",
    "        'clf': [SVC()],\n",
    "        'clf__C': [0.1, 1, 10], \n",
    "        'clf__kernel': ['linear', 'rbf'],\n",
    "        # 'oversample': [None, sampling.RandomOverSampler(), sampling.SMOTE()],\n",
    "    }\n",
    "]\n",
    "\n",
    "\n",
    "# Executa o GridSearch\n",
    "grid_search = GridSearchCV(clf, params, cv=5, scoring='f1') # o scoring pode variar a depender do negocio\n",
    "grid_search.fit(X_train, y_train)"
   ]
  },
  {
   "cell_type": "code",
   "execution_count": 35,
   "id": "0f5218c7-0edb-44d6-9c29-2619a3f3aa3c",
   "metadata": {},
   "outputs": [
    {
     "data": {
      "image/png": "[encoded data removed]",
      "text/plain": [
       "<Figure size 600x400 with 2 Axes>"
      ]
     },
     "metadata": {},
     "output_type": "display_data"
    }
   ],
   "source": [
    "y_pred = grid_search.predict(X_test)\n",
    "\n",
    "prec, rec, f1, n = precision_recall_fscore_support(y_test, y_pred)\n",
    "cm = confusion_matrix(y_test, y_pred, normalize='true')\n",
    "\n",
    "sns.heatmap(cm, annot=True, cmap='Blues', fmt='g')\n",
    "plt.xlabel('Predito')\n",
    "plt.ylabel('Real')\n",
    "plt.show()"
   ]
  },
  {
   "cell_type": "code",
   "execution_count": 36,
   "id": "26180bd3-282d-4e6a-9935-de1db96eaba3",
   "metadata": {},
   "outputs": [
    {
     "data": {
      "text/plain": [
       "(array([0.98020086, 0.96256684]),\n",
       " array([0.99795501, 0.72289157]),\n",
       " array([0.98899826, 0.82568807]),\n",
       " array([3423,  249]))"
      ]
     },
     "execution_count": 36,
     "metadata": {},
     "output_type": "execute_result"
    }
   ],
   "source": [
    "#f1\n",
    "prec, rec, f1, n"
   ]
  },
  {
   "cell_type": "code",
   "execution_count": 37,
   "id": "c02c8619-04b4-4e53-86dc-b08590a8d807",
   "metadata": {},
   "outputs": [
    {
     "data": {
      "text/html": [
       "<style>#sk-container-id-2 {color: black;background-color: white;}#sk-container-id-2 pre{padding: 0;}#sk-container-id-2 div.sk-toggleable {background-color: white;}#sk-container-id-2 label.sk-toggleable__label {cursor: pointer;display: block;width: 100%;margin-bottom: 0;padding: 0.3em;box-sizing: border-box;text-align: center;}#sk-container-id-2 label.sk-toggleable__label-arrow:before {content: \"▸\";float: left;margin-right: 0.25em;color: #696969;}#sk-container-id-2 label.sk-toggleable__label-arrow:hover:before {color: black;}#sk-container-id-2 div.sk-estimator:hover label.sk-toggleable__label-arrow:before {color: black;}#sk-container-id-2 div.sk-toggleable__content {max-height: 0;max-width: 0;overflow: hidden;text-align: left;background-color: #f0f8ff;}#sk-container-id-2 div.sk-toggleable__content pre {margin: 0.2em;color: black;border-radius: 0.25em;background-color: #f0f8ff;}#sk-container-id-2 input.sk-toggleable__control:checked~div.sk-toggleable__content {max-height: 200px;max-width: 100%;overflow: auto;}#sk-container-id-2 input.sk-toggleable__control:checked~label.sk-toggleable__label-arrow:before {content: \"▾\";}#sk-container-id-2 div.sk-estimator input.sk-toggleable__control:checked~label.sk-toggleable__label {background-color: #d4ebff;}#sk-container-id-2 div.sk-label input.sk-toggleable__control:checked~label.sk-toggleable__label {background-color: #d4ebff;}#sk-container-id-2 input.sk-hidden--visually {border: 0;clip: rect(1px 1px 1px 1px);clip: rect(1px, 1px, 1px, 1px);height: 1px;margin: -1px;overflow: hidden;padding: 0;position: absolute;width: 1px;}#sk-container-id-2 div.sk-estimator {font-family: monospace;background-color: #f0f8ff;border: 1px dotted black;border-radius: 0.25em;box-sizing: border-box;margin-bottom: 0.5em;}#sk-container-id-2 div.sk-estimator:hover {background-color: #d4ebff;}#sk-container-id-2 div.sk-parallel-item::after {content: \"\";width: 100%;border-bottom: 1px solid gray;flex-grow: 1;}#sk-container-id-2 div.sk-label:hover label.sk-toggleable__label {background-color: #d4ebff;}#sk-container-id-2 div.sk-serial::before {content: \"\";position: absolute;border-left: 1px solid gray;box-sizing: border-box;top: 0;bottom: 0;left: 50%;z-index: 0;}#sk-container-id-2 div.sk-serial {display: flex;flex-direction: column;align-items: center;background-color: white;padding-right: 0.2em;padding-left: 0.2em;position: relative;}#sk-container-id-2 div.sk-item {position: relative;z-index: 1;}#sk-container-id-2 div.sk-parallel {display: flex;align-items: stretch;justify-content: center;background-color: white;position: relative;}#sk-container-id-2 div.sk-item::before, #sk-container-id-2 div.sk-parallel-item::before {content: \"\";position: absolute;border-left: 1px solid gray;box-sizing: border-box;top: 0;bottom: 0;left: 50%;z-index: -1;}#sk-container-id-2 div.sk-parallel-item {display: flex;flex-direction: column;z-index: 1;position: relative;background-color: white;}#sk-container-id-2 div.sk-parallel-item:first-child::after {align-self: flex-end;width: 50%;}#sk-container-id-2 div.sk-parallel-item:last-child::after {align-self: flex-start;width: 50%;}#sk-container-id-2 div.sk-parallel-item:only-child::after {width: 0;}#sk-container-id-2 div.sk-dashed-wrapped {border: 1px dashed gray;margin: 0 0.4em 0.5em 0.4em;box-sizing: border-box;padding-bottom: 0.4em;background-color: white;}#sk-container-id-2 div.sk-label label {font-family: monospace;font-weight: bold;display: inline-block;line-height: 1.2em;}#sk-container-id-2 div.sk-label-container {text-align: center;}#sk-container-id-2 div.sk-container {/* jupyter's `normalize.less` sets `[hidden] { display: none; }` but bootstrap.min.css set `[hidden] { display: none !important; }` so we also need the `!important` here to be able to override the default hidden behavior on the sphinx rendered scikit-learn.org. See: https://github.com/scikit-learn/scikit-learn/issues/21755 */display: inline-block !important;position: relative;}#sk-container-id-2 div.sk-text-repr-fallback {display: none;}</style><div id=\"sk-container-id-2\" class=\"sk-top-container\"><div class=\"sk-text-repr-fallback\"><pre>Pipeline(steps=[(&#x27;scaler&#x27;, StandardScaler()),\n",
       "                (&#x27;clf&#x27;, RandomForestClassifier(max_depth=5, n_estimators=50))])</pre><b>In a Jupyter environment, please rerun this cell to show the HTML representation or trust the notebook. <br />On GitHub, the HTML representation is unable to render, please try loading this page with nbviewer.org.</b></div><div class=\"sk-container\" hidden><div class=\"sk-item sk-dashed-wrapped\"><div class=\"sk-label-container\"><div class=\"sk-label sk-toggleable\"><input class=\"sk-toggleable__control sk-hidden--visually\" id=\"sk-estimator-id-5\" type=\"checkbox\" ><label for=\"sk-estimator-id-5\" class=\"sk-toggleable__label sk-toggleable__label-arrow\">Pipeline</label><div class=\"sk-toggleable__content\"><pre>Pipeline(steps=[(&#x27;scaler&#x27;, StandardScaler()),\n",
       "                (&#x27;clf&#x27;, RandomForestClassifier(max_depth=5, n_estimators=50))])</pre></div></div></div><div class=\"sk-serial\"><div class=\"sk-item\"><div class=\"sk-estimator sk-toggleable\"><input class=\"sk-toggleable__control sk-hidden--visually\" id=\"sk-estimator-id-6\" type=\"checkbox\" ><label for=\"sk-estimator-id-6\" class=\"sk-toggleable__label sk-toggleable__label-arrow\">StandardScaler</label><div class=\"sk-toggleable__content\"><pre>StandardScaler()</pre></div></div></div><div class=\"sk-item\"><div class=\"sk-estimator sk-toggleable\"><input class=\"sk-toggleable__control sk-hidden--visually\" id=\"sk-estimator-id-7\" type=\"checkbox\" ><label for=\"sk-estimator-id-7\" class=\"sk-toggleable__label sk-toggleable__label-arrow\">RandomForestClassifier</label><div class=\"sk-toggleable__content\"><pre>RandomForestClassifier(max_depth=5, n_estimators=50)</pre></div></div></div></div></div></div></div>"
      ],
      "text/plain": [
       "Pipeline(steps=[('scaler', StandardScaler()),\n",
       "                ('clf', RandomForestClassifier(max_depth=5, n_estimators=50))])"
      ]
     },
     "execution_count": 37,
     "metadata": {},
     "output_type": "execute_result"
    }
   ],
   "source": [
    "grid_search.best_estimator_"
   ]
  },
  {
   "cell_type": "markdown",
   "id": "3d32bf5d-3548-46e9-9b4e-7dd5384a7d05",
   "metadata": {},
   "source": [
    "#### Feature importance"
   ]
  },
  {
   "cell_type": "code",
   "execution_count": 38,
   "id": "c165ec23-6115-468e-a9b3-add70a91080d",
   "metadata": {},
   "outputs": [
    {
     "data": {
      "text/plain": [
       "<AxesSubplot:>"
      ]
     },
     "execution_count": 38,
     "metadata": {},
     "output_type": "execute_result"
    },
    {
     "data": {
      "image/png": "[encoded data removed]",
      "text/plain": [
       "<Figure size 600x400 with 2 Axes>"
      ]
     },
     "metadata": {},
     "output_type": "display_data"
    }
   ],
   "source": [
    "best_model = grid_search.best_estimator_.named_steps['clf']\n",
    "imp = best_model.feature_importances_\n",
    "\n",
    "feature_importances = pd.DataFrame(\n",
    "    imp,\n",
    "    index = X_train.columns,\n",
    "    columns=['importancia']).sort_values('importancia', ascending=False)\n",
    "\n",
    "sns.heatmap(feature_importances, cmap='Blues', annot=True)"
   ]
  },
  {
   "cell_type": "markdown",
   "id": "4ab56df9-e2b7-4c7c-b7bf-9c703591d3ea",
   "metadata": {},
   "source": [
    "#### Análise de erros"
   ]
  },
  {
   "cell_type": "code",
   "execution_count": 39,
   "id": "a7fb5e81-f460-4e0d-ba57-33e58c493be3",
   "metadata": {},
   "outputs": [
    {
     "data": {
      "text/html": [
       "<div>\n",
       "<style scoped>\n",
       "    .dataframe tbody tr th:only-of-type {\n",
       "        vertical-align: middle;\n",
       "    }\n",
       "\n",
       "    .dataframe tbody tr th {\n",
       "        vertical-align: top;\n",
       "    }\n",
       "\n",
       "    .dataframe thead th {\n",
       "        text-align: right;\n",
       "    }\n",
       "</style>\n",
       "<table border=\"1\" class=\"dataframe\">\n",
       "  <thead>\n",
       "    <tr style=\"text-align: right;\">\n",
       "      <th></th>\n",
       "      <th>CBK</th>\n",
       "      <th>hora_h</th>\n",
       "      <th>dia_sem</th>\n",
       "      <th>n_cbk_anteriores</th>\n",
       "      <th>historico_cbk</th>\n",
       "      <th>n_transacoes_tempo</th>\n",
       "      <th>dif_mediana_cliente_cb</th>\n",
       "      <th>dif_mediana_cliente_ncb</th>\n",
       "      <th>dif_valor_lim</th>\n",
       "    </tr>\n",
       "  </thead>\n",
       "  <tbody>\n",
       "    <tr>\n",
       "      <th>7477</th>\n",
       "      <td>1</td>\n",
       "      <td>9</td>\n",
       "      <td>3</td>\n",
       "      <td>-1</td>\n",
       "      <td>-1</td>\n",
       "      <td>0</td>\n",
       "      <td>351.00</td>\n",
       "      <td>384.00</td>\n",
       "      <td>83.00</td>\n",
       "    </tr>\n",
       "    <tr>\n",
       "      <th>7500</th>\n",
       "      <td>1</td>\n",
       "      <td>11</td>\n",
       "      <td>3</td>\n",
       "      <td>-1</td>\n",
       "      <td>-1</td>\n",
       "      <td>0</td>\n",
       "      <td>-20.00</td>\n",
       "      <td>13.00</td>\n",
       "      <td>-288.00</td>\n",
       "    </tr>\n",
       "    <tr>\n",
       "      <th>7503</th>\n",
       "      <td>1</td>\n",
       "      <td>11</td>\n",
       "      <td>3</td>\n",
       "      <td>-1</td>\n",
       "      <td>-1</td>\n",
       "      <td>0</td>\n",
       "      <td>-77.00</td>\n",
       "      <td>-44.00</td>\n",
       "      <td>-345.00</td>\n",
       "    </tr>\n",
       "    <tr>\n",
       "      <th>7507</th>\n",
       "      <td>1</td>\n",
       "      <td>11</td>\n",
       "      <td>3</td>\n",
       "      <td>-1</td>\n",
       "      <td>-1</td>\n",
       "      <td>0</td>\n",
       "      <td>-31.52</td>\n",
       "      <td>1.48</td>\n",
       "      <td>-299.52</td>\n",
       "    </tr>\n",
       "    <tr>\n",
       "      <th>7563</th>\n",
       "      <td>1</td>\n",
       "      <td>14</td>\n",
       "      <td>3</td>\n",
       "      <td>-1</td>\n",
       "      <td>-1</td>\n",
       "      <td>0</td>\n",
       "      <td>-20.00</td>\n",
       "      <td>13.00</td>\n",
       "      <td>-288.00</td>\n",
       "    </tr>\n",
       "  </tbody>\n",
       "</table>\n",
       "</div>"
      ],
      "text/plain": [
       "      CBK  hora_h  dia_sem  n_cbk_anteriores  historico_cbk  \\\n",
       "7477    1       9        3                -1             -1   \n",
       "7500    1      11        3                -1             -1   \n",
       "7503    1      11        3                -1             -1   \n",
       "7507    1      11        3                -1             -1   \n",
       "7563    1      14        3                -1             -1   \n",
       "\n",
       "      n_transacoes_tempo  dif_mediana_cliente_cb  dif_mediana_cliente_ncb  \\\n",
       "7477                   0                  351.00                   384.00   \n",
       "7500                   0                  -20.00                    13.00   \n",
       "7503                   0                  -77.00                   -44.00   \n",
       "7507                   0                  -31.52                     1.48   \n",
       "7563                   0                  -20.00                    13.00   \n",
       "\n",
       "      dif_valor_lim  \n",
       "7477          83.00  \n",
       "7500        -288.00  \n",
       "7503        -345.00  \n",
       "7507        -299.52  \n",
       "7563        -288.00  "
      ]
     },
     "execution_count": 39,
     "metadata": {},
     "output_type": "execute_result"
    }
   ],
   "source": [
    "erros = test[y_test != y_pred]\n",
    "erros.head(5)"
   ]
  },
  {
   "cell_type": "code",
   "execution_count": 40,
   "id": "5991e2ce-f3b8-41c3-ae61-a4b682a87c1d",
   "metadata": {},
   "outputs": [
    {
     "data": {
      "text/plain": [
       "CBK  historico_cbk\n",
       "1    -1               66\n",
       "0     1                6\n",
       "1     0                3\n",
       "0    -1                1\n",
       "dtype: int64"
      ]
     },
     "execution_count": 40,
     "metadata": {},
     "output_type": "execute_result"
    }
   ],
   "source": [
    "# o modelo sofre mais com cartões que estão fazendo a sua primeira transação\n",
    "erros[['CBK','historico_cbk']].value_counts()"
   ]
  },
  {
   "cell_type": "markdown",
   "id": "d178d858-a082-4f6a-85af-986141ac8cde",
   "metadata": {},
   "source": [
    "#### Previsao CBK na base de submissao"
   ]
  },
  {
   "cell_type": "code",
   "execution_count": 41,
   "id": "7ea7f4d5-e8a2-4f9c-bde4-f194e582537c",
   "metadata": {},
   "outputs": [],
   "source": [
    "submissao_ = submissao.drop(['Dia','Hora','Cartão','data_hora', 'semana_mes', 'Valor'], axis=1)"
   ]
  },
  {
   "cell_type": "code",
   "execution_count": 42,
   "id": "676f2790-e170-4b59-9b2f-1716e7bf4ac3",
   "metadata": {},
   "outputs": [],
   "source": [
    "submissao_pred = grid_search.predict(submissao_)"
   ]
  },
  {
   "cell_type": "code",
   "execution_count": 43,
   "id": "8d255a97-9a94-4e22-85c7-aab7a77d9379",
   "metadata": {},
   "outputs": [],
   "source": [
    "submissao['pred'] = submissao_pred"
   ]
  },
  {
   "cell_type": "code",
   "execution_count": 44,
   "id": "8b14027d-6130-44dc-be2d-21f6c2b89e8e",
   "metadata": {},
   "outputs": [
    {
     "data": {
      "text/plain": [
       "0    11796\n",
       "1       24\n",
       "Name: pred, dtype: int64"
      ]
     },
     "execution_count": 44,
     "metadata": {},
     "output_type": "execute_result"
    }
   ],
   "source": [
    "submissao.pred.value_counts()"
   ]
  },
  {
   "cell_type": "markdown",
   "id": "2f508d06-4d0b-4861-9c3f-36bd7783fa32",
   "metadata": {},
   "source": [
    "#### Conclusão\n",
    "\n",
    "1) As features baseadas no CBK são as mais importantes para o modelo indicar a classe de uma transação seguida da feature que indica a quantidade de transações em um período de tempo;\n",
    "\n",
    "2) Apesar de existir uma diferença significativa entre o valor de transferências CBK e não CBK, o modelo dá pouco peso às features relacionadas ao valor da transferência;\n",
    "\n",
    "3) O modelo sofre mais com cartões que estão fazendo a sua primeira transação e precisa ser pensado de como evoluir nesse cenário;\n",
    "\n",
    "4) O desempenho dele na base de submissão está atrelada à maneira como ele foi pensado para funcionar: assumi um cenário onde o modelo é executado em tempo real e, portanto, ele apenas tem acesso a dados do passado e também não tem acesso aos dados de CBK de registros de junho. Assim, em casos que o cartão utilizado na transferência não tem registro na nossa base, o modelo fica sem disposição das duas features que mais tem peso nas classificações dele e classificará a transferência com base quase que exclusivamente na quantidade de transferências em um determinado tempo. Por exemplo, se um cartão foi utilizado para fazer uma transferência n (n>1) vezes, é provável que o modelo entenda que as primeiras transferências não são CBK e só tenda a classificar como CBK as transferências que ocorrerem apenas a partir de um certo ponto. A atitude nesse cenário seria de classificar a sequência de transferências como um todo invés de transferências individualmente. Por conta desse comportamento, o número de 24 classes positivas na base de submissão parece ser uma subrepresentação do real desempenho do modelo.\n"
   ]
  },
  {
   "cell_type": "markdown",
   "id": "e89da00f-f840-4a09-b199-4b93a221c6c8",
   "metadata": {},
   "source": [
    "### Proposta de regras de negócio"
   ]
  },
  {
   "cell_type": "markdown",
   "id": "46cfa438-2c40-4069-9dd2-a6ba1f7595ed",
   "metadata": {},
   "source": [
    "- Estabelecer limites de numero de transações em um período de tempo\n",
    "- Limitar transações baseado na quantidade de vezes que o cartão já fez chargeback"
   ]
  },
  {
   "cell_type": "code",
   "execution_count": 45,
   "id": "c23a0102-45ba-440e-8ae6-116d300f7599",
   "metadata": {},
   "outputs": [],
   "source": [
    "def plot_cbk_ncbk(col):\n",
    "\n",
    "    max_value = np.max(base[col])\n",
    "\n",
    "    trans = []\n",
    "    for value in range(max_value+1):\n",
    "        cartoes = base[base[col] >= value].Cartão.drop_duplicates()\n",
    "        per_trans = base[base.Cartão.isin(cartoes)].CBK.value_counts(normalize=True).reset_index(name='per_trans').rename({'index':'CBK'}, axis=1)\n",
    "        per_trans[str(col)] = value\n",
    "        trans.append(per_trans)\n",
    "    trans = pd.concat(trans).reset_index(drop=True)\n",
    "\n",
    "    sns.lineplot(data=trans, x=str(col), y='per_trans', hue='CBK')"
   ]
  },
  {
   "cell_type": "markdown",
   "id": "1a71b1e4-3fa6-44b9-817a-eb1945a4b386",
   "metadata": {},
   "source": [
    "#### Estabelecer limites de numero de transações em um período de tempo\n",
    "\n",
    "Assumindo 3 transações, como exemplo"
   ]
  },
  {
   "cell_type": "code",
   "execution_count": 46,
   "id": "a2a6583e-31ff-4189-b305-52556c2fbb51",
   "metadata": {},
   "outputs": [
    {
     "data": {
      "image/png": "[encoded data removed]",
      "text/plain": [
       "<Figure size 600x400 with 1 Axes>"
      ]
     },
     "metadata": {},
     "output_type": "display_data"
    }
   ],
   "source": [
    "plot_cbk_ncbk('n_transacoes_tempo')"
   ]
  },
  {
   "cell_type": "code",
   "execution_count": 47,
   "id": "966ff093-93dd-47dc-9664-f0c11f135caa",
   "metadata": {},
   "outputs": [
    {
     "name": "stdout",
     "output_type": "stream",
     "text": [
      "Assumindo limite de 2 transações num período de 1h, em maio, o impacto seria:\n",
      "Numero de transações a menos: 193\n",
      "Numero de transações CBK: 158\n",
      "Valor bloqueado que seria CBK: 25550.57\n",
      "Valor bloqueado que não seria CBK: 3361.5\n"
     ]
    }
   ],
   "source": [
    "lim_trans_tempo = 3\n",
    "base_block_trans_tempo = base[base.n_transacoes_tempo >= lim_trans_tempo]\n",
    "\n",
    "valor_block_trans_tempo = base_block_trans_tempo.groupby('CBK').Valor.sum()\n",
    "\n",
    "print('Assumindo limite de 2 transações num período de 1h, em maio, o impacto seria:')\n",
    "print('Numero de transações a menos: ' + str(len(base_block_trans_tempo)))\n",
    "print('Numero de transações CBK: ' + str(base_block_trans_tempo.CBK.value_counts().loc[1]))\n",
    "print('Valor bloqueado que seria CBK: ' + str(valor_block_trans_tempo.loc[1]))\n",
    "print('Valor bloqueado que não seria CBK: ' + str(valor_block_trans_tempo.loc[0]))"
   ]
  },
  {
   "cell_type": "markdown",
   "id": "48f51596-8f10-4c20-9771-bcb07d291cc8",
   "metadata": {},
   "source": [
    "#### Limitar transações baseado na quantidade de vezes que o cartão já fez chargeback"
   ]
  },
  {
   "cell_type": "code",
   "execution_count": 48,
   "id": "d82a8dd7-db9a-45ac-bfaa-40f5cc085562",
   "metadata": {},
   "outputs": [
    {
     "data": {
      "image/png": "[encoded data removed]",
      "text/plain": [
       "<Figure size 600x400 with 1 Axes>"
      ]
     },
     "metadata": {},
     "output_type": "display_data"
    }
   ],
   "source": [
    "plot_cbk_ncbk('n_cbk_anteriores')"
   ]
  },
  {
   "cell_type": "code",
   "execution_count": 49,
   "id": "52711b11-435c-44aa-a94c-39a20eb911c0",
   "metadata": {},
   "outputs": [
    {
     "name": "stdout",
     "output_type": "stream",
     "text": [
      "Assumindo limite de 1 CBKs para o cartão, em maio, o impacto seria:\n",
      "Numero de transações a menos: 405\n",
      "Numero de transações CBK: 387\n",
      "Valor bloqueado que seria CBK: 67742.05\n",
      "Valor bloqueado que não seria CBK: 2440.78\n"
     ]
    }
   ],
   "source": [
    "lim_trans_n_cbk_anterior = 1\n",
    "base_block_n_cbk_anterior = base[base.n_cbk_anteriores >= lim_trans_n_cbk_anterior]\n",
    "valor_block_n_cbk_anterior = base_block_n_cbk_anterior.groupby('CBK').Valor.sum()\n",
    "\n",
    "print('Assumindo limite de 1 CBKs para o cartão, em maio, o impacto seria:')\n",
    "print('Numero de transações a menos: ' + str(len(base_block_n_cbk_anterior)))\n",
    "print('Numero de transações CBK: ' + str(base_block_n_cbk_anterior.CBK.value_counts().loc[1]))\n",
    "print('Valor bloqueado que seria CBK: ' + str(valor_block_n_cbk_anterior.loc[1]))\n",
    "print('Valor bloqueado que não seria CBK: ' + str(valor_block_n_cbk_anterior.loc[0]))"
   ]
  },
  {
   "cell_type": "markdown",
   "id": "f5ac5ed1-0077-4af9-a87b-46c0457c33a8",
   "metadata": {},
   "source": [
    "#### O impacto conjunto das duas regras em conjunto seria"
   ]
  },
  {
   "cell_type": "code",
   "execution_count": 50,
   "id": "52d48171-d822-4bdc-9a0b-ce7b1bfd3015",
   "metadata": {},
   "outputs": [
    {
     "name": "stdout",
     "output_type": "stream",
     "text": [
      "Assumindo limite de 1 CBKs para o cartão e o limite de 2 transações em uma mesma hora, em maio, o impacto seria:\n",
      "Numero de transações a menos: 437\n",
      "Numero de transações CBK: 387\n",
      "Valor bloqueado que seria CBK: 67742.05\n",
      "Valor bloqueado que não seria CBK: 5527.28\n"
     ]
    }
   ],
   "source": [
    "base_block = pd.concat([base_block_trans_tempo, base_block_n_cbk_anterior]).drop_duplicates()\n",
    "valor_base_block = base_block.groupby('CBK').Valor.sum()\n",
    "\n",
    "\n",
    "print('Assumindo limite de 1 CBKs para o cartão e o limite de 2 transações em uma mesma hora, em maio, o impacto seria:')\n",
    "print('Numero de transações a menos: ' + str(len(base_block)))\n",
    "print('Numero de transações CBK: ' + str(base_block.CBK.value_counts().loc[1]))\n",
    "print('Valor bloqueado que seria CBK: ' + str(valor_base_block.loc[1]))\n",
    "print('Valor bloqueado que não seria CBK: ' + str(valor_base_block.loc[0]))"
   ]
  },
  {
   "cell_type": "markdown",
   "id": "f11c342d-be50-4b24-a44d-22cd5707e075",
   "metadata": {},
   "source": [
    "#### Conclusão\n",
    "\n",
    "As duas regras de negócio tem muita interseção de casos devido transações que tiveram pedido de CBK no passado também tenderem a ser transações que acontecem seguidas vezes com o mesmo cartão em um curto período de tempo. Mesmo assim, ambas as regras podem ser utilizadas de forma isolada e faz sentido de coexistirem. \n",
    "Utilizar o limite de 1 CBK por cartão e de 2 transações em uma mesma hora teria economizado ao cliente o valor de 67742.05 reais em 387 CBKs ao custo de 5527.28 reais por não ter efetuado 50 transações que não resultaram em CBK."
   ]
  },
  {
   "cell_type": "code",
   "execution_count": null,
   "id": "3ba58a1b-ce54-4636-9708-7c939a12f993",
   "metadata": {},
   "outputs": [],
   "source": []
  }
 ],
 "metadata": {
  "kernelspec": {
   "display_name": "Python 3 (ipykernel)",
   "language": "python",
   "name": "python3"
  },
  "language_info": {
   "codemirror_mode": {
    "name": "ipython",
    "version": 3
   },
   "file_extension": ".py",
   "mimetype": "text/x-python",
   "name": "python",
   "nbconvert_exporter": "python",
   "pygments_lexer": "ipython3",
   "version": "3.9.7"
  }
 },
 "nbformat": 4,
 "nbformat_minor": 5
}
